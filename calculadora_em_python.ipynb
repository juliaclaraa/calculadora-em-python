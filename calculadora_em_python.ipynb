{
  "nbformat": 4,
  "nbformat_minor": 0,
  "metadata": {
    "colab": {
      "provenance": [],
      "authorship_tag": "ABX9TyMeSORk+uq7UJaOocFS2dJp",
      "include_colab_link": true
    },
    "kernelspec": {
      "name": "python3",
      "display_name": "Python 3"
    },
    "language_info": {
      "name": "python"
    }
  },
  "cells": [
    {
      "cell_type": "markdown",
      "metadata": {
        "id": "view-in-github",
        "colab_type": "text"
      },
      "source": [
        "<a href=\"https://colab.research.google.com/github/juliaclaraa/calculadora-em-python/blob/main/calculadora_em_python.ipynb\" target=\"_parent\"><img src=\"https://colab.research.google.com/assets/colab-badge.svg\" alt=\"Open In Colab\"/></a>"
      ]
    },
    {
      "cell_type": "code",
      "execution_count": 7,
      "metadata": {
        "colab": {
          "base_uri": "https://localhost:8080/"
        },
        "id": "wzM2x5SCCiyD",
        "outputId": "3c134632-ca4d-458c-f0f4-88013a8600ed"
      },
      "outputs": [
        {
          "output_type": "stream",
          "name": "stdout",
          "text": [
            "selecione a operação desejada:\n",
            "1. adição\n",
            "2. subtração\n",
            "3. multiplicação\n",
            "4. divisão\n",
            "digite o número da operação desejada(1/2/3/4):2\n",
            "digite o primeiro número:8\n",
            "digite o segundo número:4\n",
            "resultado: 0.0\n"
          ]
        }
      ],
      "source": [
        "print(\"selecione a operação desejada:\")\n",
        "print(\"1. adição\")\n",
        "print(\"2. subtração\")\n",
        "print(\"3. multiplicação\")\n",
        "print(\"4. divisão\")\n",
        "\n",
        "opção=input(\"digite o número da operação desejada(1/2/3/4):\")\n",
        "\n",
        "numero1= float(input(\"digite o primeiro número:\"))\n",
        "numero2= float(input(\"digite o segundo número:\"))\n",
        "\n",
        "if opção =='1':\n",
        "  resultado= numero1+ numero2\n",
        "  print(\"resultado:\", resultado)\n",
        "elif opção == '2':\n",
        "  resultado= numero1- numero1\n",
        "  print(\"resultado:\",resultado)\n",
        "elif opção =='3':\n",
        "    resultado= numero1* numero2\n",
        "    print(\"resultado:\",resultado)\n",
        "elif opção =='4':\n",
        "  if numero2!=0:\n",
        "    resultado= numero1/ numero2\n",
        "    print(\"resultado:\",resultado)\n",
        "  else:\n",
        "      print(\"erro: divisão por zero!\")\n",
        "else:\n",
        "  print(\"opção inválida. por favor, escolha uma opção válida.\")\n",
        "\n",
        "\n"
      ]
    }
  ]
}